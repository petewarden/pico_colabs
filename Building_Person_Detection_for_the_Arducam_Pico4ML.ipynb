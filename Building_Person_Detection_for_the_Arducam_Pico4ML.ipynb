{
  "nbformat": 4,
  "nbformat_minor": 0,
  "metadata": {
    "colab": {
      "provenance": [],
      "authorship_tag": "ABX9TyP0H4rgnh22Q97B4N0pnSNE",
      "include_colab_link": true
    },
    "kernelspec": {
      "name": "python3",
      "display_name": "Python 3"
    },
    "language_info": {
      "name": "python"
    }
  },
  "cells": [
    {
      "cell_type": "markdown",
      "metadata": {
        "id": "view-in-github",
        "colab_type": "text"
      },
      "source": [
        "<a href=\"https://colab.research.google.com/github/petewarden/pico_colabs/blob/main/Building_Person_Detection_for_the_Arducam_Pico4ML.ipynb\" target=\"_parent\"><img src=\"https://colab.research.google.com/assets/colab-badge.svg\" alt=\"Open In Colab\"/></a>"
      ]
    },
    {
      "cell_type": "markdown",
      "source": [
        "# Building Person Detection for the Arducam Pico4ML\n",
        "\n",
        "*By [Pete Warden](https://twitter.com/petewarden), peteward@stanford.edu*\n",
        "\n",
        "This notebook demonstrates how to compile and deploy some programs for [the Arducam Pico4ML board](), which is based on a Raspberry Pi Pico RP2040 microcontroller, but adds sensors and a screen to make it easier to use for TinyML development. A lot of the setup steps are the same as for [the blink Pico example](https://colab.research.google.com/github/petewarden/pico_colabs/blob/main/Building_Blink_for_the_Raspberry_Pi_Pico.ipynb) so I don't go into as much detail on the basics."
      ],
      "metadata": {
        "id": "Rp_OrrJ-bP-0"
      }
    },
    {
      "cell_type": "markdown",
      "source": [
        "## Install the SDK and Examples\n",
        "\n",
        "This is similar to the blink notebook, but instead of installing the example code for the standalone Pico board, we fetch [the Arducam repository of sample code](https://github.com/ArduCAM/RPI-Pico-Cam)."
      ],
      "metadata": {
        "id": "rzhH5v9jcfZB"
      }
    },
    {
      "cell_type": "code",
      "source": [
        "!mkdir pico\n",
        "%cd pico\n",
        "!git clone -b master https://github.com/raspberrypi/pico-sdk.git\n",
        "%cd pico-sdk\n",
        "!git submodule update --init\n",
        "%cd ..\n",
        "!git clone -b master https://github.com/ArduCAM/RPI-Pico-Cam"
      ],
      "metadata": {
        "id": "QF6Efz4eXK2L",
        "colab": {
          "base_uri": "https://localhost:8080/"
        },
        "outputId": "4a9b1b81-ac64-4a79-a232-5d209ef204dc"
      },
      "execution_count": 1,
      "outputs": [
        {
          "output_type": "stream",
          "name": "stdout",
          "text": [
            "/content/pico\n",
            "Cloning into 'pico-sdk'...\n",
            "remote: Enumerating objects: 5518, done.\u001b[K\n",
            "remote: Counting objects: 100% (42/42), done.\u001b[K\n",
            "remote: Compressing objects: 100% (30/30), done.\u001b[K\n",
            "remote: Total 5518 (delta 19), reused 24 (delta 11), pack-reused 5476\u001b[K\n",
            "Receiving objects: 100% (5518/5518), 2.51 MiB | 9.01 MiB/s, done.\n",
            "Resolving deltas: 100% (2788/2788), done.\n",
            "/content/pico/pico-sdk\n",
            "Submodule 'lib/cyw43-driver' (https://github.com/georgerobotics/cyw43-driver.git) registered for path 'lib/cyw43-driver'\n",
            "Submodule 'lib/lwip' (https://github.com/lwip-tcpip/lwip.git) registered for path 'lib/lwip'\n",
            "Submodule 'tinyusb' (https://github.com/hathach/tinyusb.git) registered for path 'lib/tinyusb'\n",
            "Cloning into '/content/pico/pico-sdk/lib/cyw43-driver'...\n",
            "Cloning into '/content/pico/pico-sdk/lib/lwip'...\n",
            "Cloning into '/content/pico/pico-sdk/lib/tinyusb'...\n",
            "Submodule path 'lib/cyw43-driver': checked out '195dfcc10bb6f379e3dea45147590db2203d3c7b'\n",
            "Submodule path 'lib/lwip': checked out '239918ccc173cb2c2a62f41a40fd893f57faf1d6'\n",
            "Submodule path 'lib/tinyusb': checked out '4bfab30c02279a0530e1a56f4a7c539f2d35a293'\n",
            "/content/pico\n",
            "Cloning into 'RPI-Pico-Cam'...\n",
            "remote: Enumerating objects: 788, done.\u001b[K\n",
            "remote: Counting objects: 100% (28/28), done.\u001b[K\n",
            "remote: Compressing objects: 100% (15/15), done.\u001b[K\n",
            "remote: Total 788 (delta 18), reused 13 (delta 13), pack-reused 760\u001b[K\n",
            "Receiving objects: 100% (788/788), 15.62 MiB | 32.06 MiB/s, done.\n",
            "Resolving deltas: 100% (290/290), done.\n"
          ]
        }
      ]
    },
    {
      "cell_type": "markdown",
      "source": [
        "## Install the Toolchain"
      ],
      "metadata": {
        "id": "2uPAQjgIebcb"
      }
    },
    {
      "cell_type": "code",
      "source": [
        "!sudo apt update\n",
        "!sudo apt install cmake gcc-arm-none-eabi libnewlib-arm-none-eabi build-essential libstdc++-arm-none-eabi-newlib"
      ],
      "metadata": {
        "id": "K03XJhOLX6-w",
        "colab": {
          "base_uri": "https://localhost:8080/"
        },
        "outputId": "dc1e5297-94cb-4529-8856-a57546cba6a3"
      },
      "execution_count": 2,
      "outputs": [
        {
          "output_type": "stream",
          "name": "stdout",
          "text": [
            "\u001b[33m\r0% [Working]\u001b[0m\r            \rGet:1 https://cloud.r-project.org/bin/linux/ubuntu bionic-cran40/ InRelease [3,626 B]\n",
            "\u001b[33m\r0% [Waiting for headers] [Waiting for headers] [1 InRelease 0 B/3,626 B 0%] [Wa\u001b[0m\u001b[33m\r0% [Waiting for headers] [Waiting for headers] [Waiting for headers] [Waiting f\u001b[0m\u001b[33m\r0% [1 InRelease gpgv 3,626 B] [Waiting for headers] [Waiting for headers] [Wait\u001b[0m\r                                                                               \rGet:2 http://security.ubuntu.com/ubuntu bionic-security InRelease [88.7 kB]\n",
            "\u001b[33m\r0% [1 InRelease gpgv 3,626 B] [Waiting for headers] [2 InRelease 14.2 kB/88.7 k\u001b[0m\r                                                                               \rHit:3 http://archive.ubuntu.com/ubuntu bionic InRelease\n",
            "\u001b[33m\r0% [1 InRelease gpgv 3,626 B] [Waiting for headers] [2 InRelease 14.2 kB/88.7 k\u001b[0m\r                                                                               \rGet:4 http://ppa.launchpad.net/c2d4u.team/c2d4u4.0+/ubuntu bionic InRelease [15.9 kB]\n",
            "Ign:5 https://developer.download.nvidia.com/compute/machine-learning/repos/ubuntu1804/x86_64  InRelease\n",
            "Hit:6 https://developer.download.nvidia.com/compute/cuda/repos/ubuntu1804/x86_64  InRelease\n",
            "Hit:7 https://developer.download.nvidia.com/compute/machine-learning/repos/ubuntu1804/x86_64  Release\n",
            "Get:8 http://archive.ubuntu.com/ubuntu bionic-updates InRelease [88.7 kB]\n",
            "Get:9 https://cloud.r-project.org/bin/linux/ubuntu bionic-cran40/ Packages [92.1 kB]\n",
            "Hit:10 http://ppa.launchpad.net/cran/libgit2/ubuntu bionic InRelease\n",
            "Get:11 http://archive.ubuntu.com/ubuntu bionic-backports InRelease [74.6 kB]\n",
            "Hit:13 http://ppa.launchpad.net/deadsnakes/ppa/ubuntu bionic InRelease\n",
            "Hit:14 http://ppa.launchpad.net/graphics-drivers/ppa/ubuntu bionic InRelease\n",
            "Get:15 http://security.ubuntu.com/ubuntu bionic-security/universe amd64 Packages [1,540 kB]\n",
            "Get:16 http://ppa.launchpad.net/c2d4u.team/c2d4u4.0+/ubuntu bionic/main Sources [2,108 kB]\n",
            "Get:17 http://archive.ubuntu.com/ubuntu bionic-updates/universe amd64 Packages [2,318 kB]\n",
            "Get:18 http://security.ubuntu.com/ubuntu bionic-security/main amd64 Packages [2,965 kB]\n",
            "Get:19 http://archive.ubuntu.com/ubuntu bionic-updates/main amd64 Packages [3,397 kB]\n",
            "Get:20 http://ppa.launchpad.net/c2d4u.team/c2d4u4.0+/ubuntu bionic/main amd64 Packages [1,080 kB]\n",
            "Fetched 13.8 MB in 3s (5,176 kB/s)\n",
            "Reading package lists... Done\n",
            "Building dependency tree       \n",
            "Reading state information... Done\n",
            "32 packages can be upgraded. Run 'apt list --upgradable' to see them.\n",
            "Reading package lists... Done\n",
            "Building dependency tree       \n",
            "Reading state information... Done\n",
            "build-essential is already the newest version (12.4ubuntu1).\n",
            "cmake is already the newest version (3.10.2-1ubuntu2.18.04.2).\n",
            "The following package was automatically installed and is no longer required:\n",
            "  libnvidia-common-460\n",
            "Use 'sudo apt autoremove' to remove it.\n",
            "The following additional packages will be installed:\n",
            "  binutils-arm-none-eabi libisl15 libnewlib-dev\n",
            "Suggested packages:\n",
            "  libnewlib-doc\n",
            "The following NEW packages will be installed:\n",
            "  binutils-arm-none-eabi gcc-arm-none-eabi libisl15 libnewlib-arm-none-eabi\n",
            "  libnewlib-dev libstdc++-arm-none-eabi-newlib\n",
            "0 upgraded, 6 newly installed, 0 to remove and 32 not upgraded.\n",
            "Need to get 121 MB of archives.\n",
            "After this operation, 1,133 MB of additional disk space will be used.\n",
            "Get:1 http://archive.ubuntu.com/ubuntu bionic/universe amd64 libisl15 amd64 0.18-4 [548 kB]\n",
            "Get:2 http://archive.ubuntu.com/ubuntu bionic/universe amd64 binutils-arm-none-eabi amd64 2.27-9ubuntu1+9 [2,346 kB]\n",
            "Get:3 http://archive.ubuntu.com/ubuntu bionic/universe amd64 gcc-arm-none-eabi amd64 15:6.3.1+svn253039-1build1 [24.3 MB]\n",
            "Get:4 http://archive.ubuntu.com/ubuntu bionic-updates/universe amd64 libnewlib-dev all 2.4.0.20160527-3ubuntu0.1 [108 kB]\n",
            "Get:5 http://archive.ubuntu.com/ubuntu bionic-updates/universe amd64 libnewlib-arm-none-eabi all 2.4.0.20160527-3ubuntu0.1 [19.1 MB]\n",
            "Get:6 http://archive.ubuntu.com/ubuntu bionic/universe amd64 libstdc++-arm-none-eabi-newlib all 15:6.3.1+svn253039-1+10 [74.8 MB]\n",
            "Fetched 121 MB in 5s (25.4 MB/s)\n",
            "debconf: unable to initialize frontend: Dialog\n",
            "debconf: (No usable dialog-like program is installed, so the dialog based frontend cannot be used. at /usr/share/perl5/Debconf/FrontEnd/Dialog.pm line 76, <> line 6.)\n",
            "debconf: falling back to frontend: Readline\n",
            "debconf: unable to initialize frontend: Readline\n",
            "debconf: (This frontend requires a controlling tty.)\n",
            "debconf: falling back to frontend: Teletype\n",
            "dpkg-preconfigure: unable to re-open stdin: \n",
            "Selecting previously unselected package libisl15:amd64.\n",
            "(Reading database ... 155569 files and directories currently installed.)\n",
            "Preparing to unpack .../0-libisl15_0.18-4_amd64.deb ...\n",
            "Unpacking libisl15:amd64 (0.18-4) ...\n",
            "Selecting previously unselected package binutils-arm-none-eabi.\n",
            "Preparing to unpack .../1-binutils-arm-none-eabi_2.27-9ubuntu1+9_amd64.deb ...\n",
            "Unpacking binutils-arm-none-eabi (2.27-9ubuntu1+9) ...\n",
            "Selecting previously unselected package gcc-arm-none-eabi.\n",
            "Preparing to unpack .../2-gcc-arm-none-eabi_15%3a6.3.1+svn253039-1build1_amd64.deb ...\n",
            "Unpacking gcc-arm-none-eabi (15:6.3.1+svn253039-1build1) ...\n",
            "Selecting previously unselected package libnewlib-dev.\n",
            "Preparing to unpack .../3-libnewlib-dev_2.4.0.20160527-3ubuntu0.1_all.deb ...\n",
            "Unpacking libnewlib-dev (2.4.0.20160527-3ubuntu0.1) ...\n",
            "Selecting previously unselected package libnewlib-arm-none-eabi.\n",
            "Preparing to unpack .../4-libnewlib-arm-none-eabi_2.4.0.20160527-3ubuntu0.1_all.deb ...\n",
            "Unpacking libnewlib-arm-none-eabi (2.4.0.20160527-3ubuntu0.1) ...\n",
            "Selecting previously unselected package libstdc++-arm-none-eabi-newlib.\n",
            "Preparing to unpack .../5-libstdc++-arm-none-eabi-newlib_15%3a6.3.1+svn253039-1+10_all.deb ...\n",
            "Unpacking libstdc++-arm-none-eabi-newlib (15:6.3.1+svn253039-1+10) ...\n",
            "Setting up libisl15:amd64 (0.18-4) ...\n",
            "Setting up libnewlib-dev (2.4.0.20160527-3ubuntu0.1) ...\n",
            "Setting up binutils-arm-none-eabi (2.27-9ubuntu1+9) ...\n",
            "Setting up libnewlib-arm-none-eabi (2.4.0.20160527-3ubuntu0.1) ...\n",
            "Setting up libstdc++-arm-none-eabi-newlib (15:6.3.1+svn253039-1+10) ...\n",
            "Setting up gcc-arm-none-eabi (15:6.3.1+svn253039-1build1) ...\n",
            "Processing triggers for man-db (2.8.3-2ubuntu0.1) ...\n",
            "Processing triggers for libc-bin (2.27-3ubuntu1.5) ...\n"
          ]
        }
      ]
    },
    {
      "cell_type": "markdown",
      "source": [
        "## Setting up the Build System for the Video Streaming Example\n",
        "\n",
        "The first program we're going to build is an example that takes the output from the builtin camera on the Pico4ML board and copies it to the screen. This is simpler than the person detection example, so it's a good way to make sure we have the system working well.\n",
        "\n",
        "Because the folder structure of the Arducam repository is a little different from the Raspberry Pi examples, we have to set the `PICO_SDK_PATH` a bit differently too."
      ],
      "metadata": {
        "id": "DU6DNUXSfMiw"
      }
    },
    {
      "cell_type": "code",
      "execution_count": 3,
      "metadata": {
        "id": "dCHzIuxwXH-8",
        "colab": {
          "base_uri": "https://localhost:8080/"
        },
        "outputId": "d9ba3130-4b87-4f90-9d7d-d4bfd649d42a"
      },
      "outputs": [
        {
          "output_type": "stream",
          "name": "stdout",
          "text": [
            "/content/pico/RPI-Pico-Cam/arducam_demo\n",
            "/content/pico/RPI-Pico-Cam/arducam_demo/build\n",
            "env: PICO_SDK_PATH=/content/pico/pico-sdk\n",
            "\u001b[0mUsing PICO_SDK_PATH from environment ('/content/pico/pico-sdk')\u001b[0m\n",
            "\u001b[0mPICO_SDK_PATH is /content/pico/pico-sdk\u001b[0m\n",
            "\u001b[0mDefaulting PICO_PLATFORM to rp2040 since not specified.\u001b[0m\n",
            "\u001b[0mDefaulting PICO platform compiler to pico_arm_gcc since not specified.\u001b[0m\n",
            "-- Defaulting build type to 'Release' since not specified.\n",
            "\u001b[0mPICO compiler is pico_arm_gcc\u001b[0m\n",
            "-- The C compiler identification is GNU 6.3.1\n",
            "-- The CXX compiler identification is GNU 6.3.1\n",
            "-- The ASM compiler identification is GNU\n",
            "-- Found assembler: /usr/bin/arm-none-eabi-gcc\n",
            "\u001b[0mBuild type is Release\u001b[0m\n",
            "\u001b[0mDefaulting PICO target board to pico since not specified.\u001b[0m\n",
            "\u001b[0mUsing board configuration from /content/pico/pico-sdk/src/boards/include/boards/pico.h\u001b[0m\n",
            "-- Found Python3: /usr/bin/python3.7 (found version \"3.7.14\") found components: Interpreter \n",
            "\u001b[0mTinyUSB available at /content/pico/pico-sdk/lib/tinyusb/src/portable/raspberrypi/rp2040; enabling build support for USB.\u001b[0m\n",
            "\u001b[0mcyw43-driver available at /content/pico/pico-sdk/lib/cyw43-driver\u001b[0m\n",
            "\u001b[0mlwIP available at /content/pico/pico-sdk/lib/lwip\u001b[0m\n",
            "-- Configuring done\n",
            "-- Generating done\n",
            "-- Build files have been written to: /content/pico/RPI-Pico-Cam/arducam_demo/build\n"
          ]
        }
      ],
      "source": [
        "%cd /content/pico/RPI-Pico-Cam/arducam_demo\n",
        "!mkdir build \n",
        "%cd build \n",
        "%env PICO_SDK_PATH=/content/pico/pico-sdk\n",
        "!cmake .."
      ]
    },
    {
      "cell_type": "markdown",
      "source": [
        "## Compiling the Video Streaming Example\n",
        "\n",
        "Now we're going to build the executable for the video streaming."
      ],
      "metadata": {
        "id": "u4gi6TX9gdai"
      }
    },
    {
      "cell_type": "code",
      "source": [
        "%cd /content/pico/RPI-Pico-Cam/arducam_demo/build\n",
        "!make -j4"
      ],
      "metadata": {
        "id": "_lPP63v0ZK1n",
        "colab": {
          "base_uri": "https://localhost:8080/"
        },
        "outputId": "805293f0-827f-4f4e-f474-03d8985c84ac"
      },
      "execution_count": 5,
      "outputs": [
        {
          "output_type": "stream",
          "name": "stdout",
          "text": [
            "/content/pico/RPI-Pico-Cam/arducam_demo/build\n",
            "\u001b[35m\u001b[1mScanning dependencies of target bs2_default\u001b[0m\n",
            "[  0%] \u001b[32mBuilding ASM object pico-sdk/src/rp2_common/boot_stage2/CMakeFiles/bs2_default.dir/compile_time_choice.S.obj\u001b[0m\n",
            "[  1%] \u001b[34m\u001b[1mCreating directories for 'ELF2UF2Build'\u001b[0m\n",
            "[  1%] \u001b[34m\u001b[1mCreating directories for 'PioasmBuild'\u001b[0m\n",
            "[  2%] \u001b[32m\u001b[1mLinking ASM executable bs2_default.elf\u001b[0m\n",
            "[  2%] Built target bs2_default\n",
            "[  2%] \u001b[34m\u001b[1mNo download step for 'ELF2UF2Build'\u001b[0m\n",
            "[  3%] \u001b[34m\u001b[1mNo download step for 'PioasmBuild'\u001b[0m\n",
            "[  4%] \u001b[34m\u001b[1mGenerating bs2_default.bin\u001b[0m\n",
            "[  4%] \u001b[34m\u001b[1mGenerating bs2_default_padded_checksummed.S\u001b[0m\n",
            "[  5%] \u001b[34m\u001b[1mNo update step for 'ELF2UF2Build'\u001b[0m\n",
            "[  6%] \u001b[34m\u001b[1mNo update step for 'PioasmBuild'\u001b[0m\n",
            "[  7%] \u001b[34m\u001b[1mNo patch step for 'PioasmBuild'\u001b[0m\n",
            "[  7%] \u001b[34m\u001b[1mNo patch step for 'ELF2UF2Build'\u001b[0m\n",
            "[  7%] Built target bs2_default_padded_checksummed_asm\n",
            "\u001b[35m\u001b[1mScanning dependencies of target arducam\u001b[0m\n",
            "[  8%] \u001b[34m\u001b[1mPerforming configure step for 'PioasmBuild'\u001b[0m\n",
            "[  9%] \u001b[34m\u001b[1mPerforming configure step for 'ELF2UF2Build'\u001b[0m\n",
            "[ 10%] \u001b[32mBuilding C object Arducam/src/CMakeFiles/arducam.dir/content/pico/pico-sdk/src/rp2_common/pico_stdlib/stdlib.c.obj\u001b[0m\n",
            "[ 10%] \u001b[32mBuilding C object Arducam/src/CMakeFiles/arducam.dir/arducam.c.obj\u001b[0m\n",
            "loading initial cache file /content/pico/RPI-Pico-Cam/arducam_demo/build/pico-sdk/src/rp2_common/cyw43_driver/pioasm/tmp/PioasmBuild-cache-Release.cmake\n",
            "[ 11%] \u001b[32mBuilding C object Arducam/src/CMakeFiles/arducam.dir/content/pico/pico-sdk/src/rp2_common/hardware_gpio/gpio.c.obj\u001b[0m\n",
            "[ 11%] \u001b[32mBuilding C object Arducam/src/CMakeFiles/arducam.dir/content/pico/pico-sdk/src/rp2_common/hardware_claim/claim.c.obj\u001b[0m\n",
            "[ 12%] \u001b[32mBuilding C object Arducam/src/CMakeFiles/arducam.dir/content/pico/pico-sdk/src/rp2_common/pico_platform/platform.c.obj\u001b[0m\n",
            "[ 13%] \u001b[32mBuilding C object Arducam/src/CMakeFiles/arducam.dir/content/pico/pico-sdk/src/rp2_common/hardware_sync/sync.c.obj\u001b[0m\n",
            "[ 13%] \u001b[32mBuilding C object Arducam/src/CMakeFiles/arducam.dir/content/pico/pico-sdk/src/rp2_common/hardware_irq/irq.c.obj\u001b[0m\n",
            "[ 14%] \u001b[32mBuilding ASM object Arducam/src/CMakeFiles/arducam.dir/content/pico/pico-sdk/src/rp2_common/hardware_irq/irq_handler_chain.S.obj\u001b[0m\n",
            "[ 15%] \u001b[32mBuilding C object Arducam/src/CMakeFiles/arducam.dir/content/pico/pico-sdk/src/common/pico_sync/sem.c.obj\u001b[0m\n",
            "-- The C compiler identification is GNU 7.5.0\n",
            "-- The CXX compiler identification is GNU 7.5.0\n",
            "-- Detecting CXX compiler ABI info\n",
            "[ 16%] \u001b[32mBuilding C object Arducam/src/CMakeFiles/arducam.dir/content/pico/pico-sdk/src/common/pico_sync/lock_core.c.obj\u001b[0m\n",
            "[ 16%] \u001b[32mBuilding C object Arducam/src/CMakeFiles/arducam.dir/content/pico/pico-sdk/src/common/pico_time/time.c.obj\u001b[0m\n",
            "[ 17%] \u001b[32mBuilding C object Arducam/src/CMakeFiles/arducam.dir/content/pico/pico-sdk/src/common/pico_time/timeout_helper.c.obj\u001b[0m\n",
            "-- The CXX compiler identification is GNU 7.5.0\n",
            "-- Detecting C compiler ABI info\n",
            "[ 18%] \u001b[32mBuilding C object Arducam/src/CMakeFiles/arducam.dir/content/pico/pico-sdk/src/rp2_common/hardware_timer/timer.c.obj\u001b[0m\n",
            "-- Detecting CXX compiler ABI info - done\n",
            "-- Check for working CXX compiler: /usr/bin/c++ - skipped\n",
            "-- Detecting CXX compile features\n",
            "-- Detecting CXX compile features - done\n",
            "-- Configuring done\n",
            "-- Generating done\n",
            "-- Build files have been written to: /content/pico/RPI-Pico-Cam/arducam_demo/build/pioasm\n",
            "[ 18%] \u001b[34m\u001b[1mPerforming build step for 'PioasmBuild'\u001b[0m\n",
            "-- Detecting C compiler ABI info - done\n",
            "-- Check for working C compiler: /usr/bin/cc - skipped\n",
            "-- Detecting C compile features\n",
            "-- Detecting C compile features - done\n",
            "-- Detecting CXX compiler ABI info\n",
            "[ 18%] \u001b[32mBuilding C object Arducam/src/CMakeFiles/arducam.dir/content/pico/pico-sdk/src/common/pico_util/datetime.c.obj\u001b[0m\n",
            "[ 10%] \u001b[32mBuilding CXX object CMakeFiles/pioasm.dir/main.cpp.o\u001b[0m\n",
            "[ 20%] \u001b[32mBuilding CXX object CMakeFiles/pioasm.dir/pio_assembler.cpp.o\u001b[0m\n",
            "[ 19%] \u001b[32mBuilding C object Arducam/src/CMakeFiles/arducam.dir/content/pico/pico-sdk/src/common/pico_util/pheap.c.obj\u001b[0m\n",
            "-- Detecting CXX compiler ABI info - done\n",
            "-- Check for working CXX compiler: /usr/bin/c++ - skipped\n",
            "-- Detecting CXX compile features\n",
            "-- Detecting CXX compile features - done\n",
            "-- Configuring done\n",
            "-- Generating done\n",
            "-- Build files have been written to: /content/pico/RPI-Pico-Cam/arducam_demo/build/elf2uf2\n",
            "[ 20%] \u001b[34m\u001b[1mPerforming build step for 'ELF2UF2Build'\u001b[0m\n",
            "[ 50%] \u001b[32mBuilding CXX object CMakeFiles/elf2uf2.dir/main.cpp.o\u001b[0m\n",
            "[ 21%] \u001b[32mBuilding C object Arducam/src/CMakeFiles/arducam.dir/content/pico/pico-sdk/src/common/pico_util/queue.c.obj\u001b[0m\n",
            "[ 21%] \u001b[32mBuilding C object Arducam/src/CMakeFiles/arducam.dir/content/pico/pico-sdk/src/common/pico_sync/mutex.c.obj\u001b[0m\n",
            "[ 22%] \u001b[32mBuilding C object Arducam/src/CMakeFiles/arducam.dir/content/pico/pico-sdk/src/common/pico_sync/critical_section.c.obj\u001b[0m\n",
            "[ 23%] \u001b[32mBuilding C object Arducam/src/CMakeFiles/arducam.dir/content/pico/pico-sdk/src/rp2_common/hardware_uart/uart.c.obj\u001b[0m\n",
            "[ 24%] \u001b[32mBuilding ASM object Arducam/src/CMakeFiles/arducam.dir/content/pico/pico-sdk/src/rp2_common/hardware_divider/divider.S.obj\u001b[0m\n",
            "[ 24%] \u001b[32mBuilding C object Arducam/src/CMakeFiles/arducam.dir/content/pico/pico-sdk/src/rp2_common/pico_runtime/runtime.c.obj\u001b[0m\n",
            "[ 25%] \u001b[32mBuilding C object Arducam/src/CMakeFiles/arducam.dir/content/pico/pico-sdk/src/rp2_common/hardware_clocks/clocks.c.obj\u001b[0m\n",
            "[100%] \u001b[32m\u001b[1mLinking CXX executable elf2uf2\u001b[0m\n",
            "[ 30%] \u001b[32mBuilding CXX object CMakeFiles/pioasm.dir/pio_disassembler.cpp.o\u001b[0m\n",
            "[ 26%] \u001b[32mBuilding C object Arducam/src/CMakeFiles/arducam.dir/content/pico/pico-sdk/src/rp2_common/hardware_pll/pll.c.obj\u001b[0m\n",
            "[100%] Built target elf2uf2\n",
            "[ 26%] \u001b[32mBuilding C object Arducam/src/CMakeFiles/arducam.dir/content/pico/pico-sdk/src/rp2_common/hardware_vreg/vreg.c.obj\u001b[0m\n",
            "[ 27%] \u001b[34m\u001b[1mNo install step for 'ELF2UF2Build'\u001b[0m\n",
            "[ 28%] \u001b[32mBuilding C object Arducam/src/CMakeFiles/arducam.dir/content/pico/pico-sdk/src/rp2_common/hardware_watchdog/watchdog.c.obj\u001b[0m\n",
            "[ 28%] \u001b[34m\u001b[1mCompleted 'ELF2UF2Build'\u001b[0m\n",
            "[ 28%] Built target ELF2UF2Build\n",
            "[ 40%] \u001b[32mBuilding CXX object CMakeFiles/pioasm.dir/gen/lexer.cpp.o\u001b[0m\n",
            "[ 29%] \u001b[32mBuilding C object Arducam/src/CMakeFiles/arducam.dir/content/pico/pico-sdk/src/rp2_common/hardware_xosc/xosc.c.obj\u001b[0m\n",
            "[ 29%] \u001b[32mBuilding C object Arducam/src/CMakeFiles/arducam.dir/content/pico/pico-sdk/src/rp2_common/pico_printf/printf.c.obj\u001b[0m\n",
            "[ 50%] \u001b[32mBuilding CXX object CMakeFiles/pioasm.dir/gen/parser.cpp.o\u001b[0m\n",
            "[ 30%] \u001b[32mBuilding ASM object Arducam/src/CMakeFiles/arducam.dir/content/pico/pico-sdk/src/rp2_common/pico_bit_ops/bit_ops_aeabi.S.obj\u001b[0m\n",
            "[ 31%] \u001b[32mBuilding C object Arducam/src/CMakeFiles/arducam.dir/content/pico/pico-sdk/src/rp2_common/pico_bootrom/bootrom.c.obj\u001b[0m\n",
            "[ 31%] \u001b[32mBuilding ASM object Arducam/src/CMakeFiles/arducam.dir/content/pico/pico-sdk/src/rp2_common/pico_divider/divider.S.obj\u001b[0m\n",
            "[ 32%] \u001b[32mBuilding ASM object Arducam/src/CMakeFiles/arducam.dir/content/pico/pico-sdk/src/rp2_common/pico_double/double_aeabi.S.obj\u001b[0m\n",
            "[ 34%] \u001b[32mBuilding C object Arducam/src/CMakeFiles/arducam.dir/content/pico/pico-sdk/src/rp2_common/pico_double/double_init_rom.c.obj\u001b[0m\n",
            "[ 35%] \u001b[32mBuilding C object Arducam/src/CMakeFiles/arducam.dir/content/pico/pico-sdk/src/rp2_common/pico_double/double_math.c.obj\u001b[0m\n",
            "[ 60%] \u001b[32mBuilding CXX object CMakeFiles/pioasm.dir/c_sdk_output.cpp.o\u001b[0m\n",
            "[ 70%] \u001b[32mBuilding CXX object CMakeFiles/pioasm.dir/python_output.cpp.o\u001b[0m\n",
            "[ 35%] \u001b[32mBuilding ASM object Arducam/src/CMakeFiles/arducam.dir/content/pico/pico-sdk/src/rp2_common/pico_double/double_v1_rom_shim.S.obj\u001b[0m\n",
            "[ 36%] \u001b[32mBuilding ASM object Arducam/src/CMakeFiles/arducam.dir/content/pico/pico-sdk/src/rp2_common/pico_int64_ops/pico_int64_ops_aeabi.S.obj\u001b[0m\n",
            "[ 37%] \u001b[32mBuilding ASM object Arducam/src/CMakeFiles/arducam.dir/content/pico/pico-sdk/src/rp2_common/pico_float/float_aeabi.S.obj\u001b[0m\n",
            "[ 37%] \u001b[32mBuilding C object Arducam/src/CMakeFiles/arducam.dir/content/pico/pico-sdk/src/rp2_common/pico_float/float_init_rom.c.obj\u001b[0m\n",
            "[ 38%] \u001b[32mBuilding C object Arducam/src/CMakeFiles/arducam.dir/content/pico/pico-sdk/src/rp2_common/pico_float/float_math.c.obj\u001b[0m\n",
            "[ 80%] \u001b[32mBuilding CXX object CMakeFiles/pioasm.dir/hex_output.cpp.o\u001b[0m\n",
            "[ 39%] \u001b[32mBuilding ASM object Arducam/src/CMakeFiles/arducam.dir/content/pico/pico-sdk/src/rp2_common/pico_float/float_v1_rom_shim.S.obj\u001b[0m\n",
            "[ 39%] \u001b[32mBuilding C object Arducam/src/CMakeFiles/arducam.dir/content/pico/pico-sdk/src/rp2_common/pico_malloc/pico_malloc.c.obj\u001b[0m\n",
            "[ 40%] \u001b[32mBuilding ASM object Arducam/src/CMakeFiles/arducam.dir/content/pico/pico-sdk/src/rp2_common/pico_mem_ops/mem_ops_aeabi.S.obj\u001b[0m\n",
            "[ 41%] \u001b[32mBuilding ASM object Arducam/src/CMakeFiles/arducam.dir/content/pico/pico-sdk/src/rp2_common/pico_standard_link/crt0.S.obj\u001b[0m\n",
            "[ 41%] \u001b[32mBuilding CXX object Arducam/src/CMakeFiles/arducam.dir/content/pico/pico-sdk/src/rp2_common/pico_standard_link/new_delete.cpp.obj\u001b[0m\n",
            "[ 42%] \u001b[32mBuilding C object Arducam/src/CMakeFiles/arducam.dir/content/pico/pico-sdk/src/rp2_common/pico_standard_link/binary_info.c.obj\u001b[0m\n",
            "[ 90%] \u001b[32mBuilding CXX object CMakeFiles/pioasm.dir/ada_output.cpp.o\u001b[0m\n",
            "[ 43%] \u001b[32mBuilding C object Arducam/src/CMakeFiles/arducam.dir/content/pico/pico-sdk/src/rp2_common/pico_stdio/stdio.c.obj\u001b[0m\n",
            "[ 44%] \u001b[32mBuilding C object Arducam/src/CMakeFiles/arducam.dir/content/pico/pico-sdk/src/rp2_common/pico_stdio_uart/stdio_uart.c.obj\u001b[0m\n",
            "[ 44%] \u001b[32mBuilding C object Arducam/src/CMakeFiles/arducam.dir/content/pico/pico-sdk/src/rp2_common/hardware_i2c/i2c.c.obj\u001b[0m\n",
            "[ 45%] \u001b[32mBuilding C object Arducam/src/CMakeFiles/arducam.dir/content/pico/pico-sdk/src/rp2_common/hardware_spi/spi.c.obj\u001b[0m\n",
            "[ 46%] \u001b[32m\u001b[1mLinking CXX static library libarducam.a\u001b[0m\n",
            "[ 46%] Built target arducam\n",
            "\u001b[35m\u001b[1mScanning dependencies of target arducam_demo\u001b[0m\n",
            "[ 46%] \u001b[32mBuilding C object Arducam/CMakeFiles/arducam_demo.dir/arducam_demo.c.obj\u001b[0m\n",
            "[ 47%] \u001b[32mBuilding C object Arducam/CMakeFiles/arducam_demo.dir/content/pico/pico-sdk/src/rp2_common/hardware_gpio/gpio.c.obj\u001b[0m\n",
            "[ 48%] \u001b[32mBuilding C object Arducam/CMakeFiles/arducam_demo.dir/content/pico/pico-sdk/src/rp2_common/pico_stdlib/stdlib.c.obj\u001b[0m\n",
            "[ 48%] \u001b[32mBuilding C object Arducam/CMakeFiles/arducam_demo.dir/content/pico/pico-sdk/src/rp2_common/hardware_claim/claim.c.obj\u001b[0m\n",
            "[ 49%] \u001b[32mBuilding C object Arducam/CMakeFiles/arducam_demo.dir/content/pico/pico-sdk/src/rp2_common/pico_platform/platform.c.obj\u001b[0m\n",
            "[ 50%] \u001b[32mBuilding C object Arducam/CMakeFiles/arducam_demo.dir/content/pico/pico-sdk/src/rp2_common/hardware_sync/sync.c.obj\u001b[0m\n",
            "[ 51%] \u001b[32mBuilding C object Arducam/CMakeFiles/arducam_demo.dir/content/pico/pico-sdk/src/rp2_common/hardware_irq/irq.c.obj\u001b[0m\n",
            "[ 51%] \u001b[32mBuilding ASM object Arducam/CMakeFiles/arducam_demo.dir/content/pico/pico-sdk/src/rp2_common/hardware_irq/irq_handler_chain.S.obj\u001b[0m\n",
            "[100%] \u001b[32m\u001b[1mLinking CXX executable pioasm\u001b[0m\n",
            "[ 52%] \u001b[32mBuilding C object Arducam/CMakeFiles/arducam_demo.dir/content/pico/pico-sdk/src/common/pico_sync/sem.c.obj\u001b[0m\n",
            "[ 53%] \u001b[32mBuilding C object Arducam/CMakeFiles/arducam_demo.dir/content/pico/pico-sdk/src/common/pico_sync/lock_core.c.obj\u001b[0m\n",
            "[ 53%] \u001b[32mBuilding C object Arducam/CMakeFiles/arducam_demo.dir/content/pico/pico-sdk/src/common/pico_time/time.c.obj\u001b[0m\n",
            "[ 54%] \u001b[32mBuilding C object Arducam/CMakeFiles/arducam_demo.dir/content/pico/pico-sdk/src/common/pico_time/timeout_helper.c.obj\u001b[0m\n",
            "[ 55%] \u001b[32mBuilding C object Arducam/CMakeFiles/arducam_demo.dir/content/pico/pico-sdk/src/rp2_common/hardware_timer/timer.c.obj\u001b[0m\n",
            "[ 55%] \u001b[32mBuilding C object Arducam/CMakeFiles/arducam_demo.dir/content/pico/pico-sdk/src/common/pico_util/datetime.c.obj\u001b[0m\n",
            "[100%] Built target pioasm\n",
            "[ 56%] \u001b[34m\u001b[1mNo install step for 'PioasmBuild'\u001b[0m\n",
            "[ 57%] \u001b[32mBuilding C object Arducam/CMakeFiles/arducam_demo.dir/content/pico/pico-sdk/src/common/pico_util/pheap.c.obj\u001b[0m\n",
            "[ 58%] \u001b[32mBuilding C object Arducam/CMakeFiles/arducam_demo.dir/content/pico/pico-sdk/src/common/pico_util/queue.c.obj\u001b[0m\n",
            "[ 59%] \u001b[34m\u001b[1mCompleted 'PioasmBuild'\u001b[0m\n",
            "[ 59%] Built target PioasmBuild\n",
            "[ 59%] \u001b[32mBuilding C object Arducam/CMakeFiles/arducam_demo.dir/content/pico/pico-sdk/src/common/pico_sync/mutex.c.obj\u001b[0m\n",
            "[ 60%] \u001b[32mBuilding C object Arducam/CMakeFiles/arducam_demo.dir/content/pico/pico-sdk/src/common/pico_sync/critical_section.c.obj\u001b[0m\n",
            "[ 61%] \u001b[32mBuilding C object Arducam/CMakeFiles/arducam_demo.dir/content/pico/pico-sdk/src/rp2_common/hardware_uart/uart.c.obj\u001b[0m\n",
            "[ 62%] \u001b[32mBuilding ASM object Arducam/CMakeFiles/arducam_demo.dir/content/pico/pico-sdk/src/rp2_common/hardware_divider/divider.S.obj\u001b[0m\n",
            "[ 62%] \u001b[32mBuilding C object Arducam/CMakeFiles/arducam_demo.dir/content/pico/pico-sdk/src/rp2_common/pico_runtime/runtime.c.obj\u001b[0m\n",
            "[ 63%] \u001b[32mBuilding C object Arducam/CMakeFiles/arducam_demo.dir/content/pico/pico-sdk/src/rp2_common/hardware_clocks/clocks.c.obj\u001b[0m\n",
            "[ 64%] \u001b[32mBuilding C object Arducam/CMakeFiles/arducam_demo.dir/content/pico/pico-sdk/src/rp2_common/hardware_pll/pll.c.obj\u001b[0m\n",
            "[ 64%] \u001b[32mBuilding C object Arducam/CMakeFiles/arducam_demo.dir/content/pico/pico-sdk/src/rp2_common/hardware_vreg/vreg.c.obj\u001b[0m\n",
            "[ 65%] \u001b[32mBuilding C object Arducam/CMakeFiles/arducam_demo.dir/content/pico/pico-sdk/src/rp2_common/hardware_watchdog/watchdog.c.obj\u001b[0m\n",
            "[ 67%] \u001b[32mBuilding C object Arducam/CMakeFiles/arducam_demo.dir/content/pico/pico-sdk/src/rp2_common/hardware_xosc/xosc.c.obj\u001b[0m\n",
            "[ 67%] \u001b[32mBuilding C object Arducam/CMakeFiles/arducam_demo.dir/content/pico/pico-sdk/src/rp2_common/pico_printf/printf.c.obj\u001b[0m\n",
            "[ 68%] \u001b[32mBuilding ASM object Arducam/CMakeFiles/arducam_demo.dir/content/pico/pico-sdk/src/rp2_common/pico_bit_ops/bit_ops_aeabi.S.obj\u001b[0m\n",
            "[ 69%] \u001b[32mBuilding C object Arducam/CMakeFiles/arducam_demo.dir/content/pico/pico-sdk/src/rp2_common/pico_bootrom/bootrom.c.obj\u001b[0m\n",
            "[ 69%] \u001b[32mBuilding ASM object Arducam/CMakeFiles/arducam_demo.dir/content/pico/pico-sdk/src/rp2_common/pico_divider/divider.S.obj\u001b[0m\n",
            "[ 70%] \u001b[32mBuilding ASM object Arducam/CMakeFiles/arducam_demo.dir/content/pico/pico-sdk/src/rp2_common/pico_double/double_aeabi.S.obj\u001b[0m\n",
            "[ 71%] \u001b[32mBuilding C object Arducam/CMakeFiles/arducam_demo.dir/content/pico/pico-sdk/src/rp2_common/pico_double/double_init_rom.c.obj\u001b[0m\n",
            "[ 72%] \u001b[32mBuilding C object Arducam/CMakeFiles/arducam_demo.dir/content/pico/pico-sdk/src/rp2_common/pico_double/double_math.c.obj\u001b[0m\n",
            "[ 72%] \u001b[32mBuilding ASM object Arducam/CMakeFiles/arducam_demo.dir/content/pico/pico-sdk/src/rp2_common/pico_double/double_v1_rom_shim.S.obj\u001b[0m\n",
            "[ 73%] \u001b[32mBuilding ASM object Arducam/CMakeFiles/arducam_demo.dir/content/pico/pico-sdk/src/rp2_common/pico_int64_ops/pico_int64_ops_aeabi.S.obj\u001b[0m\n",
            "[ 74%] \u001b[32mBuilding ASM object Arducam/CMakeFiles/arducam_demo.dir/content/pico/pico-sdk/src/rp2_common/pico_float/float_aeabi.S.obj\u001b[0m\n",
            "[ 74%] \u001b[32mBuilding C object Arducam/CMakeFiles/arducam_demo.dir/content/pico/pico-sdk/src/rp2_common/pico_float/float_init_rom.c.obj\u001b[0m\n",
            "[ 75%] \u001b[32mBuilding C object Arducam/CMakeFiles/arducam_demo.dir/content/pico/pico-sdk/src/rp2_common/pico_float/float_math.c.obj\u001b[0m\n",
            "[ 76%] \u001b[32mBuilding ASM object Arducam/CMakeFiles/arducam_demo.dir/content/pico/pico-sdk/src/rp2_common/pico_float/float_v1_rom_shim.S.obj\u001b[0m\n",
            "[ 76%] \u001b[32mBuilding C object Arducam/CMakeFiles/arducam_demo.dir/content/pico/pico-sdk/src/rp2_common/pico_malloc/pico_malloc.c.obj\u001b[0m\n",
            "[ 77%] \u001b[32mBuilding ASM object Arducam/CMakeFiles/arducam_demo.dir/content/pico/pico-sdk/src/rp2_common/pico_mem_ops/mem_ops_aeabi.S.obj\u001b[0m\n",
            "[ 78%] \u001b[32mBuilding ASM object Arducam/CMakeFiles/arducam_demo.dir/content/pico/pico-sdk/src/rp2_common/pico_standard_link/crt0.S.obj\u001b[0m\n",
            "[ 79%] \u001b[32mBuilding CXX object Arducam/CMakeFiles/arducam_demo.dir/content/pico/pico-sdk/src/rp2_common/pico_standard_link/new_delete.cpp.obj\u001b[0m\n",
            "[ 79%] \u001b[32mBuilding C object Arducam/CMakeFiles/arducam_demo.dir/content/pico/pico-sdk/src/rp2_common/pico_standard_link/binary_info.c.obj\u001b[0m\n",
            "[ 80%] \u001b[32mBuilding C object Arducam/CMakeFiles/arducam_demo.dir/content/pico/pico-sdk/src/rp2_common/pico_stdio/stdio.c.obj\u001b[0m\n",
            "[ 80%] \u001b[32mBuilding C object Arducam/CMakeFiles/arducam_demo.dir/content/pico/pico-sdk/src/rp2_common/pico_stdio_usb/stdio_usb.c.obj\u001b[0m\n",
            "[ 81%] \u001b[32mBuilding C object Arducam/CMakeFiles/arducam_demo.dir/content/pico/pico-sdk/src/rp2_common/pico_stdio_usb/reset_interface.c.obj\u001b[0m\n",
            "[ 82%] \u001b[32mBuilding C object Arducam/CMakeFiles/arducam_demo.dir/content/pico/pico-sdk/src/rp2_common/pico_stdio_usb/stdio_usb_descriptors.c.obj\u001b[0m\n",
            "[ 83%] \u001b[32mBuilding C object Arducam/CMakeFiles/arducam_demo.dir/content/pico/pico-sdk/lib/tinyusb/src/portable/raspberrypi/rp2040/dcd_rp2040.c.obj\u001b[0m\n",
            "[ 83%] \u001b[32mBuilding C object Arducam/CMakeFiles/arducam_demo.dir/content/pico/pico-sdk/lib/tinyusb/src/portable/raspberrypi/rp2040/rp2040_usb.c.obj\u001b[0m\n",
            "[ 84%] \u001b[32mBuilding C object Arducam/CMakeFiles/arducam_demo.dir/content/pico/pico-sdk/lib/tinyusb/src/device/usbd.c.obj\u001b[0m\n",
            "[ 85%] \u001b[32mBuilding C object Arducam/CMakeFiles/arducam_demo.dir/content/pico/pico-sdk/lib/tinyusb/src/device/usbd_control.c.obj\u001b[0m\n",
            "[ 85%] \u001b[32mBuilding C object Arducam/CMakeFiles/arducam_demo.dir/content/pico/pico-sdk/lib/tinyusb/src/class/audio/audio_device.c.obj\u001b[0m\n",
            "[ 86%] \u001b[32mBuilding C object Arducam/CMakeFiles/arducam_demo.dir/content/pico/pico-sdk/lib/tinyusb/src/class/cdc/cdc_device.c.obj\u001b[0m\n",
            "[ 87%] \u001b[32mBuilding C object Arducam/CMakeFiles/arducam_demo.dir/content/pico/pico-sdk/lib/tinyusb/src/class/dfu/dfu_device.c.obj\u001b[0m\n",
            "[ 88%] \u001b[32mBuilding C object Arducam/CMakeFiles/arducam_demo.dir/content/pico/pico-sdk/lib/tinyusb/src/class/dfu/dfu_rt_device.c.obj\u001b[0m\n",
            "[ 88%] \u001b[32mBuilding C object Arducam/CMakeFiles/arducam_demo.dir/content/pico/pico-sdk/lib/tinyusb/src/class/hid/hid_device.c.obj\u001b[0m\n",
            "[ 89%] \u001b[32mBuilding C object Arducam/CMakeFiles/arducam_demo.dir/content/pico/pico-sdk/lib/tinyusb/src/class/midi/midi_device.c.obj\u001b[0m\n",
            "[ 90%] \u001b[32mBuilding C object Arducam/CMakeFiles/arducam_demo.dir/content/pico/pico-sdk/lib/tinyusb/src/class/msc/msc_device.c.obj\u001b[0m\n",
            "[ 90%] \u001b[32mBuilding C object Arducam/CMakeFiles/arducam_demo.dir/content/pico/pico-sdk/lib/tinyusb/src/class/net/ecm_rndis_device.c.obj\u001b[0m\n",
            "[ 91%] \u001b[32mBuilding C object Arducam/CMakeFiles/arducam_demo.dir/content/pico/pico-sdk/lib/tinyusb/src/class/net/ncm_device.c.obj\u001b[0m\n",
            "[ 91%] \u001b[32mBuilding C object Arducam/CMakeFiles/arducam_demo.dir/content/pico/pico-sdk/lib/tinyusb/src/class/vendor/vendor_device.c.obj\u001b[0m\n",
            "[ 92%] \u001b[32mBuilding C object Arducam/CMakeFiles/arducam_demo.dir/content/pico/pico-sdk/lib/tinyusb/src/class/usbtmc/usbtmc_device.c.obj\u001b[0m\n",
            "[ 93%] \u001b[32mBuilding C object Arducam/CMakeFiles/arducam_demo.dir/content/pico/pico-sdk/lib/tinyusb/src/class/video/video_device.c.obj\u001b[0m\n",
            "[ 94%] \u001b[32mBuilding C object Arducam/CMakeFiles/arducam_demo.dir/content/pico/pico-sdk/lib/tinyusb/src/tusb.c.obj\u001b[0m\n",
            "[ 94%] \u001b[32mBuilding C object Arducam/CMakeFiles/arducam_demo.dir/content/pico/pico-sdk/lib/tinyusb/src/common/tusb_fifo.c.obj\u001b[0m\n",
            "[ 95%] \u001b[32mBuilding C object Arducam/CMakeFiles/arducam_demo.dir/content/pico/pico-sdk/src/rp2_common/pico_fix/rp2040_usb_device_enumeration/rp2040_usb_device_enumeration.c.obj\u001b[0m\n",
            "[ 96%] \u001b[32mBuilding C object Arducam/CMakeFiles/arducam_demo.dir/content/pico/pico-sdk/src/rp2_common/pico_unique_id/unique_id.c.obj\u001b[0m\n",
            "[ 97%] \u001b[32mBuilding C object Arducam/CMakeFiles/arducam_demo.dir/content/pico/pico-sdk/src/rp2_common/hardware_flash/flash.c.obj\u001b[0m\n",
            "[ 98%] \u001b[32mBuilding C object Arducam/CMakeFiles/arducam_demo.dir/content/pico/pico-sdk/src/rp2_common/hardware_spi/spi.c.obj\u001b[0m\n",
            "[ 98%] \u001b[32mBuilding C object Arducam/CMakeFiles/arducam_demo.dir/content/pico/pico-sdk/src/rp2_common/hardware_i2c/i2c.c.obj\u001b[0m\n",
            "[100%] \u001b[32m\u001b[1mLinking CXX executable arducam_demo.elf\u001b[0m\n",
            "[100%] Built target arducam_demo\n"
          ]
        }
      ]
    },
    {
      "cell_type": "markdown",
      "source": [
        "## Load and Run the Executable\n",
        "\n",
        "You should now be able to find the video streaming binary in `/content/pico/RPI-Pico-Cam/arducam_demo/build/arducam/arducam_demo.uf2`. Press the `bootsel` button on the board, plug it into the USB socket so that the mass storage drive appears in the file system, and copy the binary over. After the board reboots, you should see the output of the camera in the board's display."
      ],
      "metadata": {
        "id": "ye8YEiomh2NM"
      }
    },
    {
      "cell_type": "code",
      "source": [],
      "metadata": {
        "id": "y19IOPqQak7v"
      },
      "execution_count": null,
      "outputs": []
    }
  ]
}